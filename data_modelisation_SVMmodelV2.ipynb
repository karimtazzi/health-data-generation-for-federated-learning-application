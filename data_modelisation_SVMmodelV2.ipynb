{
 "cells": [
  {
   "cell_type": "code",
   "execution_count": 1,
   "metadata": {},
   "outputs": [],
   "source": [
    "import random\n",
    "import warnings\n",
    "warnings.filterwarnings('ignore')\n",
    "import neurokit2 as nk\n",
    "import numpy as np\n",
    "import pandas as pd\n",
    "from simglucose.simulation.env import T1DSimEnv\n",
    "from simglucose.controller.basal_bolus_ctrller import BBController\n",
    "from simglucose.sensor.cgm import CGMSensor\n",
    "from simglucose.actuator.pump import InsulinPump\n",
    "from simglucose.patient.t1dpatient import T1DPatient\n",
    "from simglucose.simulation.scenario_gen import RandomScenario\n",
    "from simglucose.simulation.scenario import CustomScenario\n",
    "from simglucose.simulation.sim_engine import SimObj, sim, batch_sim\n",
    "from datetime import timedelta\n",
    "from datetime import datetime\n",
    "import scipy\n",
    "import matplotlib.pyplot as plt"
   ]
  },
  {
   "cell_type": "code",
   "execution_count": 2,
   "metadata": {},
   "outputs": [],
   "source": [
    "def Insulin_Glucose_data(year,month,day,hour,minute,second):\n",
    "         #specify start_time as the beginning of today\n",
    "         dt = datetime(year,month,day,hour,minute,second)\n",
    "         start_time = datetime.combine(dt.date(), datetime.min.time())\n",
    "         # --------- Create Random Scenario --------------\n",
    "         # Specify results saving path\n",
    "         path = './results'\n",
    "        # Create a simulation environment\n",
    "         patient = T1DPatient.withName('adolescent#001')\n",
    "         sensor = CGMSensor.withName('Dexcom', seed=1)\n",
    "         pump = InsulinPump.withName('Insulet')\n",
    "         scenario = RandomScenario(start_time=start_time, seed=1)\n",
    "         env = T1DSimEnv(patient, sensor, pump, scenario)\n",
    "\n",
    "        # Create a controller\n",
    "         controller = BBController()\n",
    "\n",
    "        # Put them together to create a simulation object\n",
    "         s1 = SimObj(env, controller, timedelta(days=7), animate=False, path=path)\n",
    "         results1 = sim(s1)\n",
    "         data2=pd.DataFrame(results1)\n",
    "         data_glucose_insulin=data2[[\"CGM\",\"insulin\"]].reset_index()\n",
    "         data_glucose_insulin_V2=data_glucose_insulin[:3000]\n",
    "         data_glucose_insulin_V3=data_glucose_insulin_V2[[\"CGM\",\"insulin\"]]\n",
    "         return data_glucose_insulin_V3"
   ]
  },
  {
   "cell_type": "markdown",
   "metadata": {},
   "source": [
    "1.1 Glucose data visualisation"
   ]
  },
  {
   "cell_type": "code",
   "execution_count": 6,
   "metadata": {},
   "outputs": [
    {
     "name": "stdout",
     "output_type": "stream",
     "text": [
      "Process ID: 3860\n",
      "Simulation starts ...\n",
      "Simulation Completed!\n"
     ]
    },
    {
     "data": {
      "text/plain": [
       "(array([  7.,   5.,  11.,  16.,  37.,  68.,  77., 196., 147., 130., 154.,\n",
       "        156., 136., 158., 158., 156., 167., 165., 158., 131., 142., 158.,\n",
       "        139., 127.,  78.,  52.,  31.,  17.,  18.,   5.]),\n",
       " array([ 56.80487185,  61.01055167,  65.21623148,  69.4219113 ,\n",
       "         73.62759111,  77.83327093,  82.03895074,  86.24463056,\n",
       "         90.45031037,  94.65599019,  98.86167   , 103.06734981,\n",
       "        107.27302963, 111.47870944, 115.68438926, 119.89006907,\n",
       "        124.09574889, 128.3014287 , 132.50710852, 136.71278833,\n",
       "        140.91846815, 145.12414796, 149.32982777, 153.53550759,\n",
       "        157.7411874 , 161.94686722, 166.15254703, 170.35822685,\n",
       "        174.56390666, 178.76958648, 182.97526629]),\n",
       " <BarContainer object of 30 artists>)"
      ]
     },
     "execution_count": 6,
     "metadata": {},
     "output_type": "execute_result"
    },
    {
     "data": {
      "image/png": "[encoded data removed]",
      "text/plain": [
       "<Figure size 432x288 with 1 Axes>"
      ]
     },
     "metadata": {
      "needs_background": "light"
     },
     "output_type": "display_data"
    }
   ],
   "source": [
    "data=Insulin_Glucose_data(2022,9,19,12,0,0)\n",
    "plt.hist(data[\"CGM\"],bins=30)"
   ]
  },
  {
   "cell_type": "markdown",
   "metadata": {},
   "source": [
    "1.2 Glucose Data Distribution Modeling"
   ]
  },
  {
   "cell_type": "code",
   "execution_count": 30,
   "metadata": {},
   "outputs": [
    {
     "name": "stdout",
     "output_type": "stream",
     "text": [
      "Selected Model :  norm\n",
      "Loc. param. :  120.94377803525127\n",
      "Scale param. :  25.16495766182926\n",
      "Other arguments :  ()\n",
      "SSE :  0.009404495613880267\n"
     ]
    }
   ],
   "source": [
    "import scipy.stats as stats\n",
    "distribution_names = ['norm', 'beta','gamma','alpha','pareto', 't', 'lognorm', 'invgamma', 'invgauss',  'loggamma', 'chi', 'chi2','uniform']\n",
    "sse = np.inf\n",
    "sse_thr = 0.10\n",
    "y, x = np.histogram(data[\"CGM\"], bins=500, density=True)\n",
    "# Pour chaque distribution\n",
    "x = (x + np.roll(x, -1))[:-1] / 2.0\n",
    "sum_square_error=[]\n",
    "p_value=[]\n",
    "sse = np.inf\n",
    "sse_thr = 0.10\n",
    "\n",
    "# Pour chaque distribution\n",
    "for name in distribution_names:\n",
    "\n",
    "\t# Modéliser\n",
    "\tdist = getattr(scipy.stats, name)\n",
    "\tparam = dist.fit(data[\"CGM\"])\n",
    "\n",
    "\t# Paramètres\n",
    "\tloc = param[-2]\n",
    "\tscale = param[-1]\n",
    "\targ = param[:-2]\n",
    "\n",
    "\t# PDF\n",
    "\tpdf = dist.pdf(x, *arg, loc=loc, scale=scale)\n",
    "\t# SSE\n",
    "\tmodel_sse = np.sum((y - pdf)**2)\n",
    "\n",
    "\t# Si le SSE est ddiminué, enregistrer la loi\n",
    "\tif model_sse < sse :\n",
    "\t\tbest_pdf = pdf\n",
    "\t\tsse = model_sse\n",
    "\t\tbest_loc = loc\n",
    "\t\tbest_scale = scale\n",
    "\t\tbest_arg = arg\n",
    "\t\tbest_name = name\n",
    "\n",
    "\t# Si en dessous du seuil, quitter la boucle\n",
    "\tif model_sse < sse_thr :\n",
    "\t\tbreak\n",
    "print(\"Selected Model : \", best_name)\n",
    "print(\"Loc. param. : \", best_loc)\n",
    "print(\"Scale param. : \", best_scale)\n",
    "print(\"Other arguments : \", best_arg)\n",
    "print(\"SSE : \", sse)\n"
   ]
  },
  {
   "cell_type": "markdown",
   "metadata": {},
   "source": [
    "2.1 insulin data visualisation"
   ]
  },
  {
   "cell_type": "code",
   "execution_count": 9,
   "metadata": {},
   "outputs": [
    {
     "data": {
      "text/plain": [
       "(array([2.978e+03, 0.000e+00, 1.000e+00, 0.000e+00, 1.000e+00, 0.000e+00,\n",
       "        1.000e+00, 0.000e+00, 1.000e+00, 0.000e+00, 1.000e+00, 0.000e+00,\n",
       "        0.000e+00, 0.000e+00, 0.000e+00, 0.000e+00, 0.000e+00, 2.000e+00,\n",
       "        1.000e+00, 1.000e+00, 0.000e+00, 3.000e+00, 1.000e+00, 1.000e+00,\n",
       "        0.000e+00, 1.000e+00, 3.000e+00, 1.000e+00, 2.000e+00, 1.000e+00]),\n",
       " array([0.01393333, 0.09356306, 0.17319278, 0.2528225 , 0.33245222,\n",
       "        0.41208194, 0.49171167, 0.57134139, 0.65097111, 0.73060083,\n",
       "        0.81023056, 0.88986028, 0.96949   , 1.04911972, 1.12874944,\n",
       "        1.20837917, 1.28800889, 1.36763861, 1.44726833, 1.52689806,\n",
       "        1.60652778, 1.6861575 , 1.76578722, 1.84541694, 1.92504667,\n",
       "        2.00467639, 2.08430611, 2.16393583, 2.24356556, 2.32319528,\n",
       "        2.402825  ]),\n",
       " <BarContainer object of 30 artists>)"
      ]
     },
     "execution_count": 9,
     "metadata": {},
     "output_type": "execute_result"
    },
    {
     "data": {
      "image/png": "[encoded data removed]",
      "text/plain": [
       "<Figure size 432x288 with 1 Axes>"
      ]
     },
     "metadata": {
      "needs_background": "light"
     },
     "output_type": "display_data"
    }
   ],
   "source": [
    "plt.hist(data[\"insulin\"],bins=30)"
   ]
  },
  {
   "cell_type": "markdown",
   "metadata": {},
   "source": [
    "2.2 insulin data distribution modeling"
   ]
  },
  {
   "cell_type": "code",
   "execution_count": 12,
   "metadata": {},
   "outputs": [
    {
     "name": "stderr",
     "output_type": "stream",
     "text": [
      "WARNING:root:SKIPPED kstwo distribution (taking more than 30 seconds)\n",
      "WARNING:root:SKIPPED levy_stable distribution (taking more than 30 seconds)\n",
      "WARNING:root:SKIPPED rv_continuous distribution (taking more than 30 seconds)\n",
      "WARNING:root:SKIPPED rv_histogram distribution (taking more than 30 seconds)\n",
      "WARNING:root:SKIPPED ncf distribution (taking more than 30 seconds)\n",
      "WARNING:root:SKIPPED studentized_range distribution (taking more than 30 seconds)\n",
      "WARNING:root:SKIPPED triang distribution (taking more than 30 seconds)\n",
      "WARNING:root:SKIPPED tukeylambda distribution (taking more than 30 seconds)\n",
      "WARNING:root:SKIPPED vonmises distribution (taking more than 30 seconds)\n",
      "WARNING:root:SKIPPED vonmises_line distribution (taking more than 30 seconds)\n",
      "WARNING:root:SKIPPED weibull_max distribution (taking more than 30 seconds)\n"
     ]
    },
    {
     "data": {
      "text/html": [
       "<div>\n",
       "<style scoped>\n",
       "    .dataframe tbody tr th:only-of-type {\n",
       "        vertical-align: middle;\n",
       "    }\n",
       "\n",
       "    .dataframe tbody tr th {\n",
       "        vertical-align: top;\n",
       "    }\n",
       "\n",
       "    .dataframe thead th {\n",
       "        text-align: right;\n",
       "    }\n",
       "</style>\n",
       "<table border=\"1\" class=\"dataframe\">\n",
       "  <thead>\n",
       "    <tr style=\"text-align: right;\">\n",
       "      <th></th>\n",
       "      <th>sumsquare_error</th>\n",
       "      <th>aic</th>\n",
       "      <th>bic</th>\n",
       "      <th>kl_div</th>\n",
       "      <th>ks_statistic</th>\n",
       "      <th>ks_pvalue</th>\n",
       "    </tr>\n",
       "  </thead>\n",
       "  <tbody>\n",
       "    <tr>\n",
       "      <th>halflogistic</th>\n",
       "      <td>118.614898</td>\n",
       "      <td>19567.759982</td>\n",
       "      <td>-9675.443692</td>\n",
       "      <td>inf</td>\n",
       "      <td>0.992660</td>\n",
       "      <td>0.0</td>\n",
       "    </tr>\n",
       "    <tr>\n",
       "      <th>genhalflogistic</th>\n",
       "      <td>119.953050</td>\n",
       "      <td>19512.466988</td>\n",
       "      <td>-9633.782343</td>\n",
       "      <td>inf</td>\n",
       "      <td>0.992665</td>\n",
       "      <td>0.0</td>\n",
       "    </tr>\n",
       "    <tr>\n",
       "      <th>expon</th>\n",
       "      <td>131.756490</td>\n",
       "      <td>19646.914854</td>\n",
       "      <td>-9360.223638</td>\n",
       "      <td>inf</td>\n",
       "      <td>0.992667</td>\n",
       "      <td>0.0</td>\n",
       "    </tr>\n",
       "    <tr>\n",
       "      <th>genexpon</th>\n",
       "      <td>131.756623</td>\n",
       "      <td>19652.862630</td>\n",
       "      <td>-9336.201491</td>\n",
       "      <td>inf</td>\n",
       "      <td>0.992667</td>\n",
       "      <td>0.0</td>\n",
       "    </tr>\n",
       "    <tr>\n",
       "      <th>laplace_asymmetric</th>\n",
       "      <td>131.760302</td>\n",
       "      <td>19647.355122</td>\n",
       "      <td>-9352.130462</td>\n",
       "      <td>inf</td>\n",
       "      <td>0.992667</td>\n",
       "      <td>0.0</td>\n",
       "    </tr>\n",
       "  </tbody>\n",
       "</table>\n",
       "</div>"
      ],
      "text/plain": [
       "                    sumsquare_error           aic          bic  kl_div  \\\n",
       "halflogistic             118.614898  19567.759982 -9675.443692     inf   \n",
       "genhalflogistic          119.953050  19512.466988 -9633.782343     inf   \n",
       "expon                    131.756490  19646.914854 -9360.223638     inf   \n",
       "genexpon                 131.756623  19652.862630 -9336.201491     inf   \n",
       "laplace_asymmetric       131.760302  19647.355122 -9352.130462     inf   \n",
       "\n",
       "                    ks_statistic  ks_pvalue  \n",
       "halflogistic            0.992660        0.0  \n",
       "genhalflogistic         0.992665        0.0  \n",
       "expon                   0.992667        0.0  \n",
       "genexpon                0.992667        0.0  \n",
       "laplace_asymmetric      0.992667        0.0  "
      ]
     },
     "execution_count": 12,
     "metadata": {},
     "output_type": "execute_result"
    },
    {
     "data": {
      "image/png": "[encoded data removed]",
      "text/plain": [
       "<Figure size 432x288 with 1 Axes>"
      ]
     },
     "metadata": {
      "needs_background": "light"
     },
     "output_type": "display_data"
    }
   ],
   "source": [
    "from fitter import Fitter\n",
    "f = Fitter(data['insulin'])\n",
    "f.fit()\n",
    "f.summary()"
   ]
  },
  {
   "cell_type": "code",
   "execution_count": 24,
   "metadata": {},
   "outputs": [
    {
     "name": "stdout",
     "output_type": "stream",
     "text": [
      "(0.013933333333333336, 0.01163401666666666)\n"
     ]
    }
   ],
   "source": [
    "\n",
    "dist_name = \"expon\"\n",
    "\n",
    "# Paramètres de la loi\n",
    "dist = getattr(scipy.stats, dist_name)\n",
    "\n",
    "# Modéliser la loi\n",
    "param = dist.fit(data[\"insulin\"])\n",
    "print(param)"
   ]
  },
  {
   "cell_type": "code",
   "execution_count": 25,
   "metadata": {},
   "outputs": [
    {
     "name": "stdout",
     "output_type": "stream",
     "text": [
      "[0.01459908 0.04417364 0.04569709 ... 0.03468879 0.02576572 0.01986093]\n"
     ]
    },
    {
     "data": {
      "text/plain": [
       "(array([1.866e+03, 7.510e+02, 2.600e+02, 7.500e+01, 2.800e+01, 1.000e+01,\n",
       "        5.000e+00, 2.000e+00, 1.000e+00, 2.000e+00]),\n",
       " array([0.01393338, 0.02526543, 0.03659749, 0.04792955, 0.0592616 ,\n",
       "        0.07059366, 0.08192571, 0.09325777, 0.10458982, 0.11592188,\n",
       "        0.12725393]),\n",
       " <BarContainer object of 10 artists>)"
      ]
     },
     "execution_count": 25,
     "metadata": {},
     "output_type": "execute_result"
    },
    {
     "data": {
      "image/png": "[encoded data removed]",
      "text/plain": [
       "<Figure size 432x288 with 1 Axes>"
      ]
     },
     "metadata": {
      "needs_background": "light"
     },
     "output_type": "display_data"
    }
   ],
   "source": [
    "from scipy.stats import expon\n",
    "data_insulin= expon.rvs(size=3000, loc=0.013933333333333336, scale=0.01163401666666666)\n",
    "print(data_insulin)\n",
    "plt.hist(data_insulin)"
   ]
  },
  {
   "cell_type": "markdown",
   "metadata": {},
   "source": [
    "3.1 Data Generation: Body temperature, RSP, ECG"
   ]
  },
  {
   "cell_type": "code",
   "execution_count": 57,
   "metadata": {},
   "outputs": [],
   "source": [
    "def temperature_data(nb_samples,etat_patient):\n",
    "        lst=[]\n",
    "        if etat_patient=='N':\n",
    "            temp_min=36\n",
    "            temp_max=37\n",
    "            j=temp_min\n",
    "            for j in range(temp_min,temp_max+1):\n",
    "                 d='%d'%j+'.'+'%d'%random.randint(100,999)\n",
    "                 lst+=[float(d)]\n",
    "                 for i in range (nb_samples//2):\n",
    "                    d='36.%d'%random.randint(100,999)\n",
    "                    lst+=[float(d)]\n",
    "        if etat_patient=='EF':\n",
    "            for i in range(nb_samples):\n",
    "                d='37.%d'%random.randint(800,900)\n",
    "                lst+=[float(d)]\n",
    "        if etat_patient==\"AF\":\n",
    "            temp_max=36\n",
    "            temp_min=28\n",
    "            for i in range(temp_max,temp_min-1,-1):\n",
    "                for j in range(nb_samples//(temp_max-temp_min)):\n",
    "                    d='%d'%i+'.'+'%d'%random.randint(100,999)\n",
    "                    lst+=[float(d)]\n",
    "        if etat_patient==\"AC\":\n",
    "             temp_max=44\n",
    "             temp_min=37\n",
    "             for i in range(temp_min,temp_max+1):\n",
    "                  for j in range(nb_samples//(temp_max-temp_min)):\n",
    "                       d='%d'%i+'.'+'%d'%random.randint(100,999)\n",
    "                       lst+=[float(d)]   \n",
    "        return lst[:nb_samples]"
   ]
  },
  {
   "cell_type": "code",
   "execution_count": 34,
   "metadata": {},
   "outputs": [],
   "source": [
    "def ECG_data(nb_samples):\n",
    "    Simulated_ECG=nk.ecg_simulate(duration=20, sampling_rate=nb_samples//20,noise=0.01, heart_rate=100)\n",
    "    return Simulated_ECG[:nb_samples]\n",
    "  "
   ]
  },
  {
   "cell_type": "code",
   "execution_count": 58,
   "metadata": {},
   "outputs": [],
   "source": [
    "def RSP_data(nb_samples):\n",
    "    rsp_sim = nk.rsp_simulate(duration=15, sampling_rate=200,noise=0.01,respiratory_rate=100, method=\"sinusoidal\")\n",
    "    return rsp_sim[:nb_samples]"
   ]
  },
  {
   "cell_type": "markdown",
   "metadata": {},
   "source": [
    "3.2 DataBase construction"
   ]
  },
  {
   "cell_type": "code",
   "execution_count": 63,
   "metadata": {},
   "outputs": [],
   "source": [
    "def data_generation(n_patients):\n",
    "    temp=[]\n",
    "    for i in range (n_patients):\n",
    "        etat_patient=random.choice([\"N\",\"AC\",\"AF\",\"EF\"])\n",
    "        a=temperature_data(180,etat_patient)   # we gonna consider the mean of every tree minute 180=60*3\n",
    "        temp.append(sum(a)/len(a))\n",
    "    data = pd.DataFrame(\n",
    "        {\"ECG_moy_of_patients\":ECG_data(n_patients),\n",
    "         \"RSP_moy_of_patients\":RSP_data(n_patients),\n",
    "         \"body_temp_moy_of_patients\":temp,\n",
    "         \"CGM_moy_of_patients\":stats.norm.rvs(120.94377803525127, 25.16495766182926, size=n_patients),\n",
    "         \"insulin_moy_of_patients\":expon.rvs(size=n_patients, loc=0.013933333333333336, scale=0.01163401666666666)})\n",
    "    return data"
   ]
  },
  {
   "cell_type": "code",
   "execution_count": 64,
   "metadata": {},
   "outputs": [
    {
     "data": {
      "text/html": [
       "<div>\n",
       "<style scoped>\n",
       "    .dataframe tbody tr th:only-of-type {\n",
       "        vertical-align: middle;\n",
       "    }\n",
       "\n",
       "    .dataframe tbody tr th {\n",
       "        vertical-align: top;\n",
       "    }\n",
       "\n",
       "    .dataframe thead th {\n",
       "        text-align: right;\n",
       "    }\n",
       "</style>\n",
       "<table border=\"1\" class=\"dataframe\">\n",
       "  <thead>\n",
       "    <tr style=\"text-align: right;\">\n",
       "      <th></th>\n",
       "      <th>ECG_moy_of_patients</th>\n",
       "      <th>RSP_moy_of_patients</th>\n",
       "      <th>body_temp_moy_of_patients</th>\n",
       "      <th>CGM_moy_of_patients</th>\n",
       "      <th>insulin_moy_of_patients</th>\n",
       "    </tr>\n",
       "  </thead>\n",
       "  <tbody>\n",
       "    <tr>\n",
       "      <th>0</th>\n",
       "      <td>1.125068</td>\n",
       "      <td>-0.003339</td>\n",
       "      <td>32.938072</td>\n",
       "      <td>125.787288</td>\n",
       "      <td>0.014714</td>\n",
       "    </tr>\n",
       "    <tr>\n",
       "      <th>1</th>\n",
       "      <td>0.084636</td>\n",
       "      <td>0.022977</td>\n",
       "      <td>36.548889</td>\n",
       "      <td>127.347363</td>\n",
       "      <td>0.018767</td>\n",
       "    </tr>\n",
       "    <tr>\n",
       "      <th>2</th>\n",
       "      <td>-0.298318</td>\n",
       "      <td>0.049498</td>\n",
       "      <td>32.970567</td>\n",
       "      <td>134.754444</td>\n",
       "      <td>0.034160</td>\n",
       "    </tr>\n",
       "    <tr>\n",
       "      <th>3</th>\n",
       "      <td>-0.065227</td>\n",
       "      <td>0.076128</td>\n",
       "      <td>40.650567</td>\n",
       "      <td>162.854092</td>\n",
       "      <td>0.020366</td>\n",
       "    </tr>\n",
       "    <tr>\n",
       "      <th>4</th>\n",
       "      <td>-0.011523</td>\n",
       "      <td>0.102768</td>\n",
       "      <td>32.955833</td>\n",
       "      <td>113.928850</td>\n",
       "      <td>0.028525</td>\n",
       "    </tr>\n",
       "    <tr>\n",
       "      <th>...</th>\n",
       "      <td>...</td>\n",
       "      <td>...</td>\n",
       "      <td>...</td>\n",
       "      <td>...</td>\n",
       "      <td>...</td>\n",
       "    </tr>\n",
       "    <tr>\n",
       "      <th>995</th>\n",
       "      <td>-0.028114</td>\n",
       "      <td>0.479524</td>\n",
       "      <td>32.930067</td>\n",
       "      <td>145.414345</td>\n",
       "      <td>0.022066</td>\n",
       "    </tr>\n",
       "    <tr>\n",
       "      <th>996</th>\n",
       "      <td>0.043527</td>\n",
       "      <td>0.472823</td>\n",
       "      <td>37.849972</td>\n",
       "      <td>114.558492</td>\n",
       "      <td>0.046958</td>\n",
       "    </tr>\n",
       "    <tr>\n",
       "      <th>997</th>\n",
       "      <td>0.144992</td>\n",
       "      <td>0.464815</td>\n",
       "      <td>32.942483</td>\n",
       "      <td>87.681283</td>\n",
       "      <td>0.021684</td>\n",
       "    </tr>\n",
       "    <tr>\n",
       "      <th>998</th>\n",
       "      <td>0.259149</td>\n",
       "      <td>0.455512</td>\n",
       "      <td>37.849206</td>\n",
       "      <td>93.297844</td>\n",
       "      <td>0.018440</td>\n",
       "    </tr>\n",
       "    <tr>\n",
       "      <th>999</th>\n",
       "      <td>0.349028</td>\n",
       "      <td>0.444929</td>\n",
       "      <td>32.924811</td>\n",
       "      <td>140.622257</td>\n",
       "      <td>0.018885</td>\n",
       "    </tr>\n",
       "  </tbody>\n",
       "</table>\n",
       "<p>1000 rows × 5 columns</p>\n",
       "</div>"
      ],
      "text/plain": [
       "     ECG_moy_of_patients  RSP_moy_of_patients  body_temp_moy_of_patients  \\\n",
       "0               1.125068            -0.003339                  32.938072   \n",
       "1               0.084636             0.022977                  36.548889   \n",
       "2              -0.298318             0.049498                  32.970567   \n",
       "3              -0.065227             0.076128                  40.650567   \n",
       "4              -0.011523             0.102768                  32.955833   \n",
       "..                   ...                  ...                        ...   \n",
       "995            -0.028114             0.479524                  32.930067   \n",
       "996             0.043527             0.472823                  37.849972   \n",
       "997             0.144992             0.464815                  32.942483   \n",
       "998             0.259149             0.455512                  37.849206   \n",
       "999             0.349028             0.444929                  32.924811   \n",
       "\n",
       "     CGM_moy_of_patients  insulin_moy_of_patients  \n",
       "0             125.787288                 0.014714  \n",
       "1             127.347363                 0.018767  \n",
       "2             134.754444                 0.034160  \n",
       "3             162.854092                 0.020366  \n",
       "4             113.928850                 0.028525  \n",
       "..                   ...                      ...  \n",
       "995           145.414345                 0.022066  \n",
       "996           114.558492                 0.046958  \n",
       "997            87.681283                 0.021684  \n",
       "998            93.297844                 0.018440  \n",
       "999           140.622257                 0.018885  \n",
       "\n",
       "[1000 rows x 5 columns]"
      ]
     },
     "execution_count": 64,
     "metadata": {},
     "output_type": "execute_result"
    }
   ],
   "source": [
    "data_generation(1000)"
   ]
  },
  {
   "cell_type": "markdown",
   "metadata": {},
   "source": [
    "3.3 Preparation for the model"
   ]
  },
  {
   "cell_type": "code",
   "execution_count": 65,
   "metadata": {},
   "outputs": [],
   "source": [
    "data=data_generation(1000)\n",
    "data['scale'] = (\n",
    "        data.ECG_moy_of_patients + \n",
    "        data.RSP_moy_of_patients + \n",
    "        2*data.body_temp_moy_of_patients+\n",
    "        2*data.CGM_moy_of_patients+\n",
    "        2*data.insulin_moy_of_patients)"
   ]
  },
  {
   "cell_type": "code",
   "execution_count": 67,
   "metadata": {},
   "outputs": [
    {
     "data": {
      "text/plain": [
       "(array([ 1.,  0.,  1.,  0.,  0.,  1.,  3.,  0.,  1.,  1.,  1.,  2.,  3.,\n",
       "         4.,  0.,  0.,  3.,  7.,  8.,  7.,  8.,  8.,  8.,  8., 11., 16.,\n",
       "         8., 14., 15., 24., 20., 20., 21., 17., 23., 28., 22., 29., 23.,\n",
       "        31., 24., 21., 34., 27., 32., 25., 19., 20., 22., 30., 22., 23.,\n",
       "        31., 25., 16., 20., 17., 15., 15., 19., 13., 21., 17., 19., 11.,\n",
       "         9.,  9.,  5.,  7.,  7.,  5.,  2.,  4.,  4.,  1.,  3.,  0.,  0.,\n",
       "         1.,  2.,  1.,  0.,  1.,  0.,  0.,  0.,  1.,  0.,  0.,  0.,  1.,\n",
       "         0.,  0.,  0.,  0.,  0.,  1.,  0.,  0.,  1.]),\n",
       " array([156.68945483, 160.2811956 , 163.87293636, 167.46467713,\n",
       "        171.05641789, 174.64815866, 178.23989942, 181.83164019,\n",
       "        185.42338095, 189.01512172, 192.60686248, 196.19860325,\n",
       "        199.79034401, 203.38208478, 206.97382555, 210.56556631,\n",
       "        214.15730708, 217.74904784, 221.34078861, 224.93252937,\n",
       "        228.52427014, 232.1160109 , 235.70775167, 239.29949243,\n",
       "        242.8912332 , 246.48297396, 250.07471473, 253.66645549,\n",
       "        257.25819626, 260.84993702, 264.44167779, 268.03341856,\n",
       "        271.62515932, 275.21690009, 278.80864085, 282.40038162,\n",
       "        285.99212238, 289.58386315, 293.17560391, 296.76734468,\n",
       "        300.35908544, 303.95082621, 307.54256697, 311.13430774,\n",
       "        314.7260485 , 318.31778927, 321.90953004, 325.5012708 ,\n",
       "        329.09301157, 332.68475233, 336.2764931 , 339.86823386,\n",
       "        343.45997463, 347.05171539, 350.64345616, 354.23519692,\n",
       "        357.82693769, 361.41867845, 365.01041922, 368.60215998,\n",
       "        372.19390075, 375.78564151, 379.37738228, 382.96912305,\n",
       "        386.56086381, 390.15260458, 393.74434534, 397.33608611,\n",
       "        400.92782687, 404.51956764, 408.1113084 , 411.70304917,\n",
       "        415.29478993, 418.8865307 , 422.47827146, 426.07001223,\n",
       "        429.66175299, 433.25349376, 436.84523453, 440.43697529,\n",
       "        444.02871606, 447.62045682, 451.21219759, 454.80393835,\n",
       "        458.39567912, 461.98741988, 465.57916065, 469.17090141,\n",
       "        472.76264218, 476.35438294, 479.94612371, 483.53786447,\n",
       "        487.12960524, 490.721346  , 494.31308677, 497.90482754,\n",
       "        501.4965683 , 505.08830907, 508.68004983, 512.2717906 ,\n",
       "        515.86353136]),\n",
       " <BarContainer object of 100 artists>)"
      ]
     },
     "execution_count": 67,
     "metadata": {},
     "output_type": "execute_result"
    },
    {
     "data": {
      "image/png": "[encoded data removed]",
      "text/plain": [
       "<Figure size 432x288 with 1 Axes>"
      ]
     },
     "metadata": {
      "needs_background": "light"
     },
     "output_type": "display_data"
    }
   ],
   "source": [
    "plt.hist(data['scale'],bins=100)"
   ]
  },
  {
   "cell_type": "code",
   "execution_count": 74,
   "metadata": {},
   "outputs": [],
   "source": [
    "# 0 :normale state \n",
    "# 1 : anormale state\n",
    "data[\"status\"]=data[\"scale\"].apply(\n",
    "    lambda x: 0 if (250 <= x <= 380) \n",
    "    else 1\n",
    "\n",
    "    )\n"
   ]
  },
  {
   "cell_type": "code",
   "execution_count": 75,
   "metadata": {},
   "outputs": [
    {
     "data": {
      "text/html": [
       "<div>\n",
       "<style scoped>\n",
       "    .dataframe tbody tr th:only-of-type {\n",
       "        vertical-align: middle;\n",
       "    }\n",
       "\n",
       "    .dataframe tbody tr th {\n",
       "        vertical-align: top;\n",
       "    }\n",
       "\n",
       "    .dataframe thead th {\n",
       "        text-align: right;\n",
       "    }\n",
       "</style>\n",
       "<table border=\"1\" class=\"dataframe\">\n",
       "  <thead>\n",
       "    <tr style=\"text-align: right;\">\n",
       "      <th></th>\n",
       "      <th>ECG_moy_of_patients</th>\n",
       "      <th>RSP_moy_of_patients</th>\n",
       "      <th>body_temp_moy_of_patients</th>\n",
       "      <th>CGM_moy_of_patients</th>\n",
       "      <th>insulin_moy_of_patients</th>\n",
       "      <th>scale</th>\n",
       "      <th>status</th>\n",
       "    </tr>\n",
       "  </thead>\n",
       "  <tbody>\n",
       "    <tr>\n",
       "      <th>0</th>\n",
       "      <td>1.119547</td>\n",
       "      <td>0.010207</td>\n",
       "      <td>32.960039</td>\n",
       "      <td>123.106917</td>\n",
       "      <td>0.020987</td>\n",
       "      <td>313.305638</td>\n",
       "      <td>0</td>\n",
       "    </tr>\n",
       "    <tr>\n",
       "      <th>1</th>\n",
       "      <td>0.055930</td>\n",
       "      <td>0.036362</td>\n",
       "      <td>32.999750</td>\n",
       "      <td>142.172977</td>\n",
       "      <td>0.066584</td>\n",
       "      <td>350.570914</td>\n",
       "      <td>0</td>\n",
       "    </tr>\n",
       "    <tr>\n",
       "      <th>2</th>\n",
       "      <td>-0.348475</td>\n",
       "      <td>0.062423</td>\n",
       "      <td>37.846522</td>\n",
       "      <td>120.435746</td>\n",
       "      <td>0.020607</td>\n",
       "      <td>316.319699</td>\n",
       "      <td>0</td>\n",
       "    </tr>\n",
       "    <tr>\n",
       "      <th>3</th>\n",
       "      <td>-0.108034</td>\n",
       "      <td>0.088318</td>\n",
       "      <td>37.850028</td>\n",
       "      <td>121.720228</td>\n",
       "      <td>0.017658</td>\n",
       "      <td>319.156112</td>\n",
       "      <td>0</td>\n",
       "    </tr>\n",
       "    <tr>\n",
       "      <th>4</th>\n",
       "      <td>-0.051763</td>\n",
       "      <td>0.113980</td>\n",
       "      <td>32.918778</td>\n",
       "      <td>158.887864</td>\n",
       "      <td>0.028596</td>\n",
       "      <td>383.732693</td>\n",
       "      <td>1</td>\n",
       "    </tr>\n",
       "    <tr>\n",
       "      <th>...</th>\n",
       "      <td>...</td>\n",
       "      <td>...</td>\n",
       "      <td>...</td>\n",
       "      <td>...</td>\n",
       "      <td>...</td>\n",
       "      <td>...</td>\n",
       "      <td>...</td>\n",
       "    </tr>\n",
       "    <tr>\n",
       "      <th>995</th>\n",
       "      <td>0.060049</td>\n",
       "      <td>0.471805</td>\n",
       "      <td>37.847839</td>\n",
       "      <td>120.811930</td>\n",
       "      <td>0.060119</td>\n",
       "      <td>317.971631</td>\n",
       "      <td>0</td>\n",
       "    </tr>\n",
       "    <tr>\n",
       "      <th>996</th>\n",
       "      <td>0.173048</td>\n",
       "      <td>0.463569</td>\n",
       "      <td>32.956789</td>\n",
       "      <td>168.575517</td>\n",
       "      <td>0.020198</td>\n",
       "      <td>403.741625</td>\n",
       "      <td>1</td>\n",
       "    </tr>\n",
       "    <tr>\n",
       "      <th>997</th>\n",
       "      <td>0.283361</td>\n",
       "      <td>0.454068</td>\n",
       "      <td>36.527878</td>\n",
       "      <td>103.490695</td>\n",
       "      <td>0.042421</td>\n",
       "      <td>280.859416</td>\n",
       "      <td>0</td>\n",
       "    </tr>\n",
       "    <tr>\n",
       "      <th>998</th>\n",
       "      <td>0.348029</td>\n",
       "      <td>0.443341</td>\n",
       "      <td>36.550956</td>\n",
       "      <td>115.821966</td>\n",
       "      <td>0.021058</td>\n",
       "      <td>305.579329</td>\n",
       "      <td>0</td>\n",
       "    </tr>\n",
       "    <tr>\n",
       "      <th>999</th>\n",
       "      <td>0.338926</td>\n",
       "      <td>0.431430</td>\n",
       "      <td>36.525378</td>\n",
       "      <td>112.298039</td>\n",
       "      <td>0.037809</td>\n",
       "      <td>298.492806</td>\n",
       "      <td>0</td>\n",
       "    </tr>\n",
       "  </tbody>\n",
       "</table>\n",
       "<p>1000 rows × 7 columns</p>\n",
       "</div>"
      ],
      "text/plain": [
       "     ECG_moy_of_patients  RSP_moy_of_patients  body_temp_moy_of_patients  \\\n",
       "0               1.119547             0.010207                  32.960039   \n",
       "1               0.055930             0.036362                  32.999750   \n",
       "2              -0.348475             0.062423                  37.846522   \n",
       "3              -0.108034             0.088318                  37.850028   \n",
       "4              -0.051763             0.113980                  32.918778   \n",
       "..                   ...                  ...                        ...   \n",
       "995             0.060049             0.471805                  37.847839   \n",
       "996             0.173048             0.463569                  32.956789   \n",
       "997             0.283361             0.454068                  36.527878   \n",
       "998             0.348029             0.443341                  36.550956   \n",
       "999             0.338926             0.431430                  36.525378   \n",
       "\n",
       "     CGM_moy_of_patients  insulin_moy_of_patients       scale  status  \n",
       "0             123.106917                 0.020987  313.305638       0  \n",
       "1             142.172977                 0.066584  350.570914       0  \n",
       "2             120.435746                 0.020607  316.319699       0  \n",
       "3             121.720228                 0.017658  319.156112       0  \n",
       "4             158.887864                 0.028596  383.732693       1  \n",
       "..                   ...                      ...         ...     ...  \n",
       "995           120.811930                 0.060119  317.971631       0  \n",
       "996           168.575517                 0.020198  403.741625       1  \n",
       "997           103.490695                 0.042421  280.859416       0  \n",
       "998           115.821966                 0.021058  305.579329       0  \n",
       "999           112.298039                 0.037809  298.492806       0  \n",
       "\n",
       "[1000 rows x 7 columns]"
      ]
     },
     "execution_count": 75,
     "metadata": {},
     "output_type": "execute_result"
    }
   ],
   "source": [
    "data"
   ]
  },
  {
   "cell_type": "code",
   "execution_count": 79,
   "metadata": {},
   "outputs": [
    {
     "data": {
      "text/plain": [
       "0    786\n",
       "1    214\n",
       "Name: status, dtype: int64"
      ]
     },
     "execution_count": 79,
     "metadata": {},
     "output_type": "execute_result"
    }
   ],
   "source": [
    "data[\"status\"].value_counts()"
   ]
  },
  {
   "cell_type": "code",
   "execution_count": 80,
   "metadata": {},
   "outputs": [
    {
     "data": {
      "text/plain": [
       "0    0.786\n",
       "1    0.214\n",
       "Name: status, dtype: float64"
      ]
     },
     "execution_count": 80,
     "metadata": {},
     "output_type": "execute_result"
    }
   ],
   "source": [
    "#visualisation de pourcentage de la distribution\n",
    "data['status'].value_counts()/np.float(len(data[\"status\"]))"
   ]
  },
  {
   "cell_type": "code",
   "execution_count": 83,
   "metadata": {},
   "outputs": [],
   "source": [
    "from sklearn.model_selection import train_test_split\n",
    "X = data.drop(['status'], axis=1)\n",
    "y = data['status']\n",
    "X_train, X_test, y_train, y_test = train_test_split(X, y, test_size = 0.2, random_state = 0)"
   ]
  },
  {
   "cell_type": "code",
   "execution_count": 84,
   "metadata": {},
   "outputs": [],
   "source": [
    "from sklearn.preprocessing import StandardScaler\n",
    "\n",
    "scaler = StandardScaler()\n",
    "\n",
    "X_train = scaler.fit_transform(X_train)\n",
    "\n",
    "X_test = scaler.transform(X_test)"
   ]
  },
  {
   "cell_type": "markdown",
   "metadata": {},
   "source": [
    "3.4 Model Construction"
   ]
  },
  {
   "cell_type": "code",
   "execution_count": 85,
   "metadata": {},
   "outputs": [
    {
     "name": "stdout",
     "output_type": "stream",
     "text": [
      "Model accuracy score with default hyperparameters: 0.9700\n"
     ]
    }
   ],
   "source": [
    "from sklearn.svm import SVC\n",
    "\n",
    "\n",
    "# import metrics to compute accuracy\n",
    "from sklearn.metrics import accuracy_score\n",
    "\n",
    "\n",
    "# instantiate classifier with default hyperparameters\n",
    "svc=SVC() \n",
    "\n",
    "\n",
    "# fit classifier to training set\n",
    "svc.fit(X_train,y_train)\n",
    "\n",
    "\n",
    "# make predictions on test set\n",
    "y_pred=svc.predict(X_test)\n",
    "\n",
    "\n",
    "# compute and print accuracy score\n",
    "print('Model accuracy score with default hyperparameters: {0:0.4f}'. format(accuracy_score(y_test, y_pred)))"
   ]
  },
  {
   "cell_type": "code",
   "execution_count": 98,
   "metadata": {},
   "outputs": [
    {
     "name": "stdout",
     "output_type": "stream",
     "text": [
      "Model accuracy score with rbf kernel and C=100.0 : 0.9800\n"
     ]
    }
   ],
   "source": [
    "# instantiate classifier with rbf kernel and C=100\n",
    "model_svc=SVC(C=100.0) \n",
    "\n",
    "\n",
    "# fit classifier to training set\n",
    "model_svc.fit(X_train,y_train)\n",
    "\n",
    "\n",
    "# make predictions on test set\n",
    "y_pred=model_svc.predict(X_test)\n",
    "\n",
    "\n",
    "# compute and print accuracy score\n",
    "print('Model accuracy score with rbf kernel and C=100.0 : {0:0.4f}'. format(accuracy_score(y_test, y_pred)))"
   ]
  },
  {
   "cell_type": "code",
   "execution_count": 95,
   "metadata": {},
   "outputs": [
    {
     "data": {
      "text/plain": [
       "{'C': 100.0,\n",
       " 'break_ties': False,\n",
       " 'cache_size': 200,\n",
       " 'class_weight': None,\n",
       " 'coef0': 0.0,\n",
       " 'decision_function_shape': 'ovr',\n",
       " 'degree': 3,\n",
       " 'gamma': 'scale',\n",
       " 'kernel': 'rbf',\n",
       " 'max_iter': -1,\n",
       " 'probability': False,\n",
       " 'random_state': None,\n",
       " 'shrinking': True,\n",
       " 'tol': 0.001,\n",
       " 'verbose': False}"
      ]
     },
     "execution_count": 95,
     "metadata": {},
     "output_type": "execute_result"
    }
   ],
   "source": [
    "model_svc.get_params()"
   ]
  }
 ],
 "metadata": {
  "kernelspec": {
   "display_name": "Python 3.9.7 ('base')",
   "language": "python",
   "name": "python3"
  },
  "language_info": {
   "codemirror_mode": {
    "name": "ipython",
    "version": 3
   },
   "file_extension": ".py",
   "mimetype": "text/x-python",
   "name": "python",
   "nbconvert_exporter": "python",
   "pygments_lexer": "ipython3",
   "version": "3.9.7"
  },
  "orig_nbformat": 4,
  "vscode": {
   "interpreter": {
    "hash": "fe14d7e0ec77ffc2d3ba3ba3dba24cbe805b69c4decf4873dd330d9012f26114"
   }
  }
 },
 "nbformat": 4,
 "nbformat_minor": 2
}
